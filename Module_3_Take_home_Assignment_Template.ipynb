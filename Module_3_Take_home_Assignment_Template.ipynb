{
  "nbformat": 4,
  "nbformat_minor": 0,
  "metadata": {
    "colab": {
      "private_outputs": true,
      "provenance": [],
      "toc_visible": true,
      "include_colab_link": true
    },
    "kernelspec": {
      "name": "python3",
      "display_name": "Python 3"
    },
    "language_info": {
      "name": "python"
    }
  },
  "cells": [
    {
      "cell_type": "markdown",
      "metadata": {
        "id": "view-in-github",
        "colab_type": "text"
      },
      "source": [
        "<a href=\"https://colab.research.google.com/github/SarahFLestari/Training-Building-Capability-DS/blob/main/Module_3_Take_home_Assignment_Template.ipynb\" target=\"_parent\"><img src=\"https://colab.research.google.com/assets/colab-badge.svg\" alt=\"Open In Colab\"/></a>"
      ]
    },
    {
      "cell_type": "markdown",
      "source": [
        "# Import Packages"
      ],
      "metadata": {
        "id": "XfYwSIvKvWQ8"
      }
    },
    {
      "cell_type": "code",
      "source": [
        "import gdown\n",
        "import pandas as pd"
      ],
      "metadata": {
        "id": "av1nJAoPtI-4"
      },
      "execution_count": null,
      "outputs": []
    },
    {
      "cell_type": "markdown",
      "source": [
        "# Download Data"
      ],
      "metadata": {
        "id": "lnlnpGTUvUsQ"
      }
    },
    {
      "cell_type": "code",
      "execution_count": null,
      "metadata": {
        "id": "2J8FJ-M0s7c6"
      },
      "outputs": [],
      "source": [
        "gdrive_url = \"https://drive.google.com/file/d/1hOLOXCnLtEVx56yth4ePcUdb_X038_Qd/view\"\n",
        "file_name = 'TELECOM_ACCOUNT.csv'\n",
        "gdown.download(gdrive_url, file_name, fuzzy=True)"
      ]
    },
    {
      "cell_type": "code",
      "source": [
        "gdrive_url = \"https://drive.google.com/file/d/1JMrMNFaflQR0NhCXR3-u7ueA7TdNTJki/view\"\n",
        "file_name = 'TELECOM_USAGE.csv'\n",
        "gdown.download(gdrive_url, file_name, fuzzy=True)"
      ],
      "metadata": {
        "id": "IMoIgZPutIio"
      },
      "execution_count": null,
      "outputs": []
    },
    {
      "cell_type": "markdown",
      "source": [
        "# Load Data"
      ],
      "metadata": {
        "id": "L9s_-pAKvYb6"
      }
    },
    {
      "cell_type": "code",
      "source": [
        "df_account = pd.read_csv('/content/TELECOM_ACCOUNT.csv')\n",
        "df_account"
      ],
      "metadata": {
        "id": "P3lcWWvXtm_1"
      },
      "execution_count": null,
      "outputs": []
    },
    {
      "cell_type": "code",
      "source": [
        "df_usage = pd.read_csv('/content/TELECOM_USAGE.csv')\n",
        "df_usage"
      ],
      "metadata": {
        "id": "9DO-s4gLtoSL"
      },
      "execution_count": null,
      "outputs": []
    },
    {
      "cell_type": "markdown",
      "source": [
        "# Cleaning Customer Gender"
      ],
      "metadata": {
        "id": "Vz10RzvQvaT8"
      }
    },
    {
      "cell_type": "code",
      "source": [
        "df_account2 = df_account.copy()"
      ],
      "metadata": {
        "id": "-p_7MCuhtpi5"
      },
      "execution_count": null,
      "outputs": []
    },
    {
      "cell_type": "code",
      "source": [
        "print(df_account['customer_gender'].value_counts(dropna=False))"
      ],
      "metadata": {
        "id": "rAcu1PyshXJM"
      },
      "execution_count": null,
      "outputs": []
    },
    {
      "cell_type": "code",
      "source": [
        "df_account2.loc[(~(df_account2['customer_gender'].isin(['m','f','u']))) | (df_account2['customer_gender'].isnull()), 'customer_gender'] = 'u'\n"
      ],
      "metadata": {
        "id": "XseJO5P_vkL_"
      },
      "execution_count": null,
      "outputs": []
    },
    {
      "cell_type": "code",
      "source": [
        "print(df_account2['customer_gender'].value_counts(dropna=False))"
      ],
      "metadata": {
        "id": "fx8t3HORwY8E"
      },
      "execution_count": null,
      "outputs": []
    },
    {
      "cell_type": "code",
      "source": [
        "df_account2"
      ],
      "metadata": {
        "id": "w6Wm9EsFm200"
      },
      "execution_count": null,
      "outputs": []
    },
    {
      "cell_type": "markdown",
      "source": [
        "# RFM Exploration"
      ],
      "metadata": {
        "id": "J86IhLHExAsL"
      }
    },
    {
      "cell_type": "code",
      "source": [
        "df_rfm = df_usage.groupby('rfm_score').agg({\n",
        "    'mb_data_usg_m01' : ['mean','max'],\n",
        "    'avg_arpu_3m' : 'mean',\n",
        "    'lifetime_value' : 'mean'\n",
        "})"
      ],
      "metadata": {
        "id": "xZtF_7VSyGt1"
      },
      "execution_count": null,
      "outputs": []
    },
    {
      "cell_type": "code",
      "source": [
        "df_rfm.loc[[111,112,113,121,122,123]]"
      ],
      "metadata": {
        "id": "8RGytMMYzBm2"
      },
      "execution_count": null,
      "outputs": []
    },
    {
      "cell_type": "markdown",
      "source": [
        "# Merge Table"
      ],
      "metadata": {
        "id": "-qOT8hARyglf"
      }
    },
    {
      "cell_type": "code",
      "source": [
        "df_account3 = df_account2[['Customer_ID','customer_gender','region']]\n",
        "df_usage2 = df_usage[['Customer_ID','mb_data_usg_m01','avg_arpu_3m','lifetime_value']]"
      ],
      "metadata": {
        "id": "ViV4THte0Jqc"
      },
      "execution_count": null,
      "outputs": []
    },
    {
      "cell_type": "code",
      "source": [
        "df_join = df_account3.merge(df_usage2, on='Customer_ID', how='left')\n",
        "df_join"
      ],
      "metadata": {
        "id": "UgQCGlJY0O6N"
      },
      "execution_count": null,
      "outputs": []
    },
    {
      "cell_type": "code",
      "source": [
        "df_join.loc[df_join['Customer_ID'].isin([84690, 3998832, 3999066])]"
      ],
      "metadata": {
        "id": "-aPEyZUZ1Gvb"
      },
      "execution_count": null,
      "outputs": []
    }
  ]
}